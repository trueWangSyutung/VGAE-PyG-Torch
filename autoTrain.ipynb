{
 "cells": [
  {
   "cell_type": "raw",
   "source": [
    "# 自动化训练"
   ],
   "metadata": {
    "collapsed": false
   },
   "id": "507f467f149f92bf"
  },
  {
   "cell_type": "code",
   "execution_count": null,
   "outputs": [],
   "source": [
    "import os\n",
    "# 执行训练\n",
    "# /usr/bin/python3.11 /home/wangsyutung/Desktop/VGAE/train.py \n",
    "# 分别以VGAE和GAE对Cora、Citeseer、Pubmed进行训练\n",
    "\n",
    "# Cora\n",
    "print(\"Cora+VGAE\")\n",
    "for i in range(10):\n",
    "    os.system(\"/usr/bin/python3.11 /home/wangsyutung/Desktop/VGAE/train.py -dataset cora -model VGAE -inputDim 1433\")\n",
    "    \n",
    "print(\"Cora+GAE\")\n",
    "for i in range(10):\n",
    "    os.system(\"/usr/bin/python3.11 /home/wangsyutung/Desktop/VGAE/train.py -dataset cora -model GAE -inputDim 1433\")\n",
    "    "
   ],
   "metadata": {
    "collapsed": false
   },
   "id": "b4eb4733d60afcef"
  },
  {
   "cell_type": "code",
   "execution_count": null,
   "outputs": [],
   "source": [
    "\n",
    "# Citeseer\n",
    "print(\"Citeseer+VGAE\")\n",
    "for i in range(10):\n",
    "    os.system(\"/usr/bin/python3.11 /home/wangsyutung/Desktop/VGAE/train.py -dataset citeseer -model VGAE -inputDim 3703\")\n",
    "    \n",
    "print(\"Citeseer+GAE\")\n",
    "for i in range(10):\n",
    "    os.system(\"/usr/bin/python3.11 /home/wangsyutung/Desktop/VGAE/train.py -dataset citeseer -model GAE -inputDim 3703\")\n",
    "    \n",
    "\n"
   ],
   "metadata": {
    "collapsed": false
   },
   "id": "899fd45d03209ae6"
  },
  {
   "cell_type": "code",
   "execution_count": null,
   "outputs": [],
   "source": [
    "# Pubmed\n",
    "print(\"Pubmed+VGAE\")\n",
    "for i in range(10):\n",
    "    os.system(\"/usr/bin/python3.11 /home/wangsyutung/Desktop/VGAE/train.py -dataset pubmed -model VGAE -inputDim 500\")\n",
    "    \n",
    "print(\"Pubmed+GAE\")\n",
    "for i in range(10):\n",
    "    os.system(\"/usr/bin/python3.11 /home/wangsyutung/Desktop/VGAE/train.py -dataset pubmed -model GAE -inputDim 500\")\n",
    "    "
   ],
   "metadata": {
    "collapsed": false
   },
   "id": "4c8f664cfe0fc31a"
  }
 ],
 "metadata": {
  "kernelspec": {
   "display_name": "Python 3",
   "language": "python",
   "name": "python3"
  },
  "language_info": {
   "codemirror_mode": {
    "name": "ipython",
    "version": 2
   },
   "file_extension": ".py",
   "mimetype": "text/x-python",
   "name": "python",
   "nbconvert_exporter": "python",
   "pygments_lexer": "ipython2",
   "version": "2.7.6"
  }
 },
 "nbformat": 4,
 "nbformat_minor": 5
}
